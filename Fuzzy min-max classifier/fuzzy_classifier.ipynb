{
 "cells": [
  {
   "cell_type": "code",
   "execution_count": 1,
   "metadata": {},
   "outputs": [],
   "source": [
    "from fuzzy import *\n",
    "import matplotlib.pyplot as plt\n",
    "import pandas as pd\n",
    "import math\n",
    "import random"
   ]
  },
  {
   "cell_type": "markdown",
   "metadata": {},
   "source": [
    "## Iris dataset"
   ]
  },
  {
   "cell_type": "code",
   "execution_count": 2,
   "metadata": {},
   "outputs": [],
   "source": [
    "df = pd.read_csv('iris.data', header=None, names=['sepal length', 'sepal width', 'petal length', 'petal width', 'class'])\n",
    "\n",
    "df = df[~(df['class']=='Iris-virginica')]\n",
    "\n",
    "df.head()\n",
    "\n",
    "df.replace(to_replace='Iris-setosa', value=0, inplace=True)\n",
    "\n",
    "df.replace(to_replace='Iris-versicolor', value=1, inplace=True)\n",
    "\n",
    "df = df.sample(frac=1)\n",
    "\n",
    "X_train = df[['sepal length', 'petal length']].values\n",
    "Y_train = df['class'].values\n",
    "\n",
    "_max = np.max(X_train, axis=0)\n",
    "_min = np.min(X_train, axis=0)\n",
    "X_train = (X_train - _min) / (_max - _min)\n",
    "\n",
    "X_test, Y_test = X_train[-20:], Y_train[-20:]\n",
    "X_train, Y_train = X_train[:-20], Y_train[:-20]"
   ]
  },
  {
   "cell_type": "code",
   "execution_count": 3,
   "metadata": {},
   "outputs": [
    {
     "output_type": "execute_result",
     "data": {
      "text/plain": [
       "((80, 2), (80,))"
      ]
     },
     "metadata": {},
     "execution_count": 3
    }
   ],
   "source": [
    "X_train.shape, Y_train.shape"
   ]
  },
  {
   "cell_type": "code",
   "execution_count": 5,
   "metadata": {},
   "outputs": [],
   "source": [
    "clf2 = FuzzyMMC(sensitivity=1, exp_bound=0.1, animate=True)"
   ]
  },
  {
   "cell_type": "code",
   "execution_count": 6,
   "metadata": {},
   "outputs": [],
   "source": [
    "clf2.fit(X_train, Y_train)"
   ]
  },
  {
   "cell_type": "code",
   "execution_count": 7,
   "metadata": {},
   "outputs": [
    {
     "output_type": "execute_result",
     "data": {
      "text/plain": [
       "1.0"
      ]
     },
     "metadata": {},
     "execution_count": 7
    }
   ],
   "source": [
    "clf2.score(X_test, Y_test)"
   ]
  },
  {
   "cell_type": "markdown",
   "metadata": {},
   "source": [
    "## Generated dataset"
   ]
  },
  {
   "cell_type": "code",
   "execution_count": 9,
   "metadata": {},
   "outputs": [],
   "source": [
    "def rand_uniform(x, y):\n",
    "    return random.random() * (y- x) + x\n",
    "\n",
    "def gen_circle(num_samples):\n",
    "    num_samples = num_samples\n",
    "    radius = 5\n",
    "    points = []\n",
    "    noise = 0.5\n",
    "    \n",
    "    def get_label(x, y):\n",
    "        dist = math.sqrt(x ** 2 + y ** 2)\n",
    "        return 0 if dist < radius * 0.5 else 1\n",
    "    \n",
    "    for i in range(num_samples//2):\n",
    "        r = rand_uniform(0, radius * 0.5)\n",
    "        angle = rand_uniform(0, 2 * math.pi)\n",
    "        x = r * math.sin(angle)\n",
    "        y = r * math.cos(angle)\n",
    "        noiseX = rand_uniform((-1)*radius, radius) * noise\n",
    "        noiseY = rand_uniform((-1)*radius, radius) * noise\n",
    "        #label = get_label(noiseX, noiseY)\n",
    "        label = 0\n",
    "        points.append((x, y, label))\n",
    "    \n",
    "    for i in range(num_samples // 2):\n",
    "        r = rand_uniform(radius * 0.7, radius)\n",
    "        angle = rand_uniform(0, 2 * math.pi)\n",
    "        x = r * math.sin(angle)\n",
    "        y = r * math.cos(angle)\n",
    "        noiseX = rand_uniform((-1)*radius, radius) * noise\n",
    "        noiseY = rand_uniform((-1)*radius, radius) * noise\n",
    "        #label = get_label(noiseX, noiseY)\n",
    "        label = 1\n",
    "        points.append((x, y, label))\n",
    "        \n",
    "    return points"
   ]
  },
  {
   "cell_type": "code",
   "execution_count": 10,
   "metadata": {},
   "outputs": [],
   "source": [
    "o = gen_circle(100)\n",
    "o = np.array(o)\n",
    "train = pd.DataFrame(o)"
   ]
  },
  {
   "cell_type": "code",
   "execution_count": 11,
   "metadata": {},
   "outputs": [
    {
     "output_type": "execute_result",
     "data": {
      "text/plain": [
       "((100, 2), (100,))"
      ]
     },
     "metadata": {},
     "execution_count": 11
    }
   ],
   "source": [
    "train_x = []\n",
    "train_y = []\n",
    "np.random.shuffle(o)\n",
    "for i in o:\n",
    "    train_x.append([i[0], i[1]])\n",
    "    train_y.append(i[2])\n",
    "\n",
    "train_x = np.array(train_x)\n",
    "train_y = np.array(train_y)\n",
    "_max = np.max(train_x, axis=0)\n",
    "_min = np.min(train_x, axis=0)\n",
    "train_x = (train_x - _min) / (_max - _min)\n",
    "train_x.shape, train_y.shape"
   ]
  },
  {
   "cell_type": "code",
   "execution_count": 19,
   "metadata": {},
   "outputs": [
    {
     "output_type": "display_data",
     "data": {
      "text/plain": "<Figure size 432x288 with 1 Axes>",
      "image/svg+xml": "<?xml version=\"1.0\" encoding=\"utf-8\" standalone=\"no\"?>\r\n<!DOCTYPE svg PUBLIC \"-//W3C//DTD SVG 1.1//EN\"\r\n  \"http://www.w3.org/Graphics/SVG/1.1/DTD/svg11.dtd\">\r\n<!-- Created with matplotlib (https://matplotlib.org/) -->\r\n<svg height=\"252.317344pt\" version=\"1.1\" viewBox=\"0 0 372.103125 252.317344\" width=\"372.103125pt\" xmlns=\"http://www.w3.org/2000/svg\" xmlns:xlink=\"http://www.w3.org/1999/xlink\">\r\n <defs>\r\n  <style type=\"text/css\">\r\n*{stroke-linecap:butt;stroke-linejoin:round;}\r\n  </style>\r\n </defs>\r\n <g id=\"figure_1\">\r\n  <g id=\"patch_1\">\r\n   <path d=\"M 0 252.317344 \r\nL 372.103125 252.317344 \r\nL 372.103125 0 \r\nL 0 0 \r\nz\r\n\" style=\"fill:none;\"/>\r\n  </g>\r\n  <g id=\"axes_1\">\r\n   <g id=\"patch_2\">\r\n    <path d=\"M 30.103125 228.439219 \r\nL 364.903125 228.439219 \r\nL 364.903125 10.999219 \r\nL 30.103125 10.999219 \r\nz\r\n\" style=\"fill:#ffffff;\"/>\r\n   </g>\r\n   <g id=\"PathCollection_1\">\r\n    <defs>\r\n     <path d=\"M 0 3 \r\nC 0.795609 3 1.55874 2.683901 2.12132 2.12132 \r\nC 2.683901 1.55874 3 0.795609 3 0 \r\nC 3 -0.795609 2.683901 -1.55874 2.12132 -2.12132 \r\nC 1.55874 -2.683901 0.795609 -3 0 -3 \r\nC -0.795609 -3 -1.55874 -2.683901 -2.12132 -2.12132 \r\nC -2.683901 -1.55874 -3 -0.795609 -3 0 \r\nC -3 0.795609 -2.683901 1.55874 -2.12132 2.12132 \r\nC -1.55874 2.683901 -0.795609 3 0 3 \r\nz\r\n\" id=\"mc74a86eab7\" style=\"stroke:#ff0000;stroke-opacity:0.8;\"/>\r\n    </defs>\r\n    <g clip-path=\"url(#pce4f60e454)\">\r\n     <use style=\"fill:#ff0000;fill-opacity:0.8;stroke:#ff0000;stroke-opacity:0.8;\" x=\"141.712422\" xlink:href=\"#mc74a86eab7\" y=\"126.634215\"/>\r\n    </g>\r\n   </g>\r\n   <g id=\"PathCollection_2\">\r\n    <g clip-path=\"url(#pce4f60e454)\">\r\n     <use style=\"fill:#ff0000;fill-opacity:0.8;stroke:#ff0000;stroke-opacity:0.8;\" x=\"217.319447\" xlink:href=\"#mc74a86eab7\" y=\"106.44145\"/>\r\n    </g>\r\n   </g>\r\n   <g id=\"PathCollection_3\">\r\n    <g clip-path=\"url(#pce4f60e454)\">\r\n     <use style=\"fill:#ff0000;fill-opacity:0.8;stroke:#ff0000;stroke-opacity:0.8;\" x=\"217.20894\" xlink:href=\"#mc74a86eab7\" y=\"100.600603\"/>\r\n    </g>\r\n   </g>\r\n   <g id=\"PathCollection_4\">\r\n    <defs>\r\n     <path d=\"M 0 3 \r\nC 0.795609 3 1.55874 2.683901 2.12132 2.12132 \r\nC 2.683901 1.55874 3 0.795609 3 0 \r\nC 3 -0.795609 2.683901 -1.55874 2.12132 -2.12132 \r\nC 1.55874 -2.683901 0.795609 -3 0 -3 \r\nC -0.795609 -3 -1.55874 -2.683901 -2.12132 -2.12132 \r\nC -2.683901 -1.55874 -3 -0.795609 -3 0 \r\nC -3 0.795609 -2.683901 1.55874 -2.12132 2.12132 \r\nC -1.55874 2.683901 -0.795609 3 0 3 \r\nz\r\n\" id=\"mc9a3a9abef\" style=\"stroke:#0000ff;stroke-opacity:0.8;\"/>\r\n    </defs>\r\n    <g clip-path=\"url(#pce4f60e454)\">\r\n     <use style=\"fill:#0000ff;fill-opacity:0.8;stroke:#0000ff;stroke-opacity:0.8;\" x=\"148.798998\" xlink:href=\"#mc9a3a9abef\" y=\"200.102242\"/>\r\n    </g>\r\n   </g>\r\n   <g id=\"PathCollection_5\">\r\n    <g clip-path=\"url(#pce4f60e454)\">\r\n     <use style=\"fill:#0000ff;fill-opacity:0.8;stroke:#0000ff;stroke-opacity:0.8;\" x=\"285.304207\" xlink:href=\"#mc9a3a9abef\" y=\"27.674912\"/>\r\n    </g>\r\n   </g>\r\n   <g id=\"PathCollection_6\">\r\n    <g clip-path=\"url(#pce4f60e454)\">\r\n     <use style=\"fill:#0000ff;fill-opacity:0.8;stroke:#0000ff;stroke-opacity:0.8;\" x=\"185.670629\" xlink:href=\"#mc9a3a9abef\" y=\"228.439219\"/>\r\n    </g>\r\n   </g>\r\n   <g id=\"PathCollection_7\">\r\n    <g clip-path=\"url(#pce4f60e454)\">\r\n     <use style=\"fill:#ff0000;fill-opacity:0.8;stroke:#ff0000;stroke-opacity:0.8;\" x=\"251.59107\" xlink:href=\"#mc74a86eab7\" y=\"91.407342\"/>\r\n    </g>\r\n   </g>\r\n   <g id=\"PathCollection_8\">\r\n    <g clip-path=\"url(#pce4f60e454)\">\r\n     <use style=\"fill:#0000ff;fill-opacity:0.8;stroke:#0000ff;stroke-opacity:0.8;\" x=\"255.983901\" xlink:href=\"#mc9a3a9abef\" y=\"13.52465\"/>\r\n    </g>\r\n   </g>\r\n   <g id=\"PathCollection_9\">\r\n    <g clip-path=\"url(#pce4f60e454)\">\r\n     <use style=\"fill:#0000ff;fill-opacity:0.8;stroke:#0000ff;stroke-opacity:0.8;\" x=\"65.207012\" xlink:href=\"#mc9a3a9abef\" y=\"145.908265\"/>\r\n    </g>\r\n   </g>\r\n   <g id=\"PathCollection_10\">\r\n    <g clip-path=\"url(#pce4f60e454)\">\r\n     <use style=\"fill:#0000ff;fill-opacity:0.8;stroke:#0000ff;stroke-opacity:0.8;\" x=\"138.533768\" xlink:href=\"#mc9a3a9abef\" y=\"212.616324\"/>\r\n    </g>\r\n   </g>\r\n   <g id=\"PathCollection_11\">\r\n    <g clip-path=\"url(#pce4f60e454)\">\r\n     <use style=\"fill:#ff0000;fill-opacity:0.8;stroke:#ff0000;stroke-opacity:0.8;\" x=\"197.213806\" xlink:href=\"#mc74a86eab7\" y=\"119.550289\"/>\r\n    </g>\r\n   </g>\r\n   <g id=\"PathCollection_12\">\r\n    <g clip-path=\"url(#pce4f60e454)\">\r\n     <use style=\"fill:#0000ff;fill-opacity:0.8;stroke:#0000ff;stroke-opacity:0.8;\" x=\"143.501785\" xlink:href=\"#mc9a3a9abef\" y=\"204.149064\"/>\r\n    </g>\r\n   </g>\r\n   <g id=\"PathCollection_13\">\r\n    <g clip-path=\"url(#pce4f60e454)\">\r\n     <use style=\"fill:#ff0000;fill-opacity:0.8;stroke:#ff0000;stroke-opacity:0.8;\" x=\"236.305759\" xlink:href=\"#mc74a86eab7\" y=\"161.115943\"/>\r\n    </g>\r\n   </g>\r\n   <g id=\"PathCollection_14\">\r\n    <g clip-path=\"url(#pce4f60e454)\">\r\n     <use style=\"fill:#0000ff;fill-opacity:0.8;stroke:#0000ff;stroke-opacity:0.8;\" x=\"167.932995\" xlink:href=\"#mc9a3a9abef\" y=\"20.379166\"/>\r\n    </g>\r\n   </g>\r\n   <g id=\"PathCollection_15\">\r\n    <g clip-path=\"url(#pce4f60e454)\">\r\n     <use style=\"fill:#0000ff;fill-opacity:0.8;stroke:#0000ff;stroke-opacity:0.8;\" x=\"75.927625\" xlink:href=\"#mc9a3a9abef\" y=\"159.558234\"/>\r\n    </g>\r\n   </g>\r\n   <g id=\"PathCollection_16\">\r\n    <g clip-path=\"url(#pce4f60e454)\">\r\n     <use style=\"fill:#ff0000;fill-opacity:0.8;stroke:#ff0000;stroke-opacity:0.8;\" x=\"151.445892\" xlink:href=\"#mc74a86eab7\" y=\"108.941201\"/>\r\n    </g>\r\n   </g>\r\n   <g id=\"PathCollection_17\">\r\n    <g clip-path=\"url(#pce4f60e454)\">\r\n     <use style=\"fill:#ff0000;fill-opacity:0.8;stroke:#ff0000;stroke-opacity:0.8;\" x=\"150.667217\" xlink:href=\"#mc74a86eab7\" y=\"147.358706\"/>\r\n    </g>\r\n   </g>\r\n   <g id=\"PathCollection_18\">\r\n    <g clip-path=\"url(#pce4f60e454)\">\r\n     <use style=\"fill:#0000ff;fill-opacity:0.8;stroke:#0000ff;stroke-opacity:0.8;\" x=\"250.958194\" xlink:href=\"#mc9a3a9abef\" y=\"191.28959\"/>\r\n    </g>\r\n   </g>\r\n   <g id=\"PathCollection_19\">\r\n    <g clip-path=\"url(#pce4f60e454)\">\r\n     <use style=\"fill:#0000ff;fill-opacity:0.8;stroke:#0000ff;stroke-opacity:0.8;\" x=\"316.528459\" xlink:href=\"#mc9a3a9abef\" y=\"187.673109\"/>\r\n    </g>\r\n   </g>\r\n   <g id=\"PathCollection_20\">\r\n    <g clip-path=\"url(#pce4f60e454)\">\r\n     <use style=\"fill:#0000ff;fill-opacity:0.8;stroke:#0000ff;stroke-opacity:0.8;\" x=\"71.194036\" xlink:href=\"#mc9a3a9abef\" y=\"129.144551\"/>\r\n    </g>\r\n   </g>\r\n   <g id=\"PathCollection_21\">\r\n    <g clip-path=\"url(#pce4f60e454)\">\r\n     <use style=\"fill:#ff0000;fill-opacity:0.8;stroke:#ff0000;stroke-opacity:0.8;\" x=\"204.645291\" xlink:href=\"#mc74a86eab7\" y=\"115.160981\"/>\r\n    </g>\r\n   </g>\r\n   <g id=\"PathCollection_22\">\r\n    <g clip-path=\"url(#pce4f60e454)\">\r\n     <use style=\"fill:#ff0000;fill-opacity:0.8;stroke:#ff0000;stroke-opacity:0.8;\" x=\"148.70161\" xlink:href=\"#mc74a86eab7\" y=\"123.51014\"/>\r\n    </g>\r\n   </g>\r\n   <g id=\"PathCollection_23\">\r\n    <g clip-path=\"url(#pce4f60e454)\">\r\n     <use style=\"fill:#0000ff;fill-opacity:0.8;stroke:#0000ff;stroke-opacity:0.8;\" x=\"134.617243\" xlink:href=\"#mc9a3a9abef\" y=\"40.886586\"/>\r\n    </g>\r\n   </g>\r\n   <g id=\"PathCollection_24\">\r\n    <g clip-path=\"url(#pce4f60e454)\">\r\n     <use style=\"fill:#ff0000;fill-opacity:0.8;stroke:#ff0000;stroke-opacity:0.8;\" x=\"200.042224\" xlink:href=\"#mc74a86eab7\" y=\"88.614741\"/>\r\n    </g>\r\n   </g>\r\n   <g id=\"PathCollection_25\">\r\n    <g clip-path=\"url(#pce4f60e454)\">\r\n     <use style=\"fill:#ff0000;fill-opacity:0.8;stroke:#ff0000;stroke-opacity:0.8;\" x=\"242.248017\" xlink:href=\"#mc74a86eab7\" y=\"140.829551\"/>\r\n    </g>\r\n   </g>\r\n   <g id=\"PathCollection_26\">\r\n    <g clip-path=\"url(#pce4f60e454)\">\r\n     <use style=\"fill:#0000ff;fill-opacity:0.8;stroke:#0000ff;stroke-opacity:0.8;\" x=\"349.684943\" xlink:href=\"#mc9a3a9abef\" y=\"127.351915\"/>\r\n    </g>\r\n   </g>\r\n   <g id=\"PathCollection_27\">\r\n    <g clip-path=\"url(#pce4f60e454)\">\r\n     <use style=\"fill:#0000ff;fill-opacity:0.8;stroke:#0000ff;stroke-opacity:0.8;\" x=\"51.978941\" xlink:href=\"#mc9a3a9abef\" y=\"83.243898\"/>\r\n    </g>\r\n   </g>\r\n   <g id=\"PathCollection_28\">\r\n    <g clip-path=\"url(#pce4f60e454)\">\r\n     <use style=\"fill:#0000ff;fill-opacity:0.8;stroke:#0000ff;stroke-opacity:0.8;\" x=\"301.284389\" xlink:href=\"#mc9a3a9abef\" y=\"202.36199\"/>\r\n    </g>\r\n   </g>\r\n   <g id=\"PathCollection_29\">\r\n    <g clip-path=\"url(#pce4f60e454)\">\r\n     <use style=\"fill:#ff0000;fill-opacity:0.8;stroke:#ff0000;stroke-opacity:0.8;\" x=\"219.638294\" xlink:href=\"#mc74a86eab7\" y=\"122.381455\"/>\r\n    </g>\r\n   </g>\r\n   <g id=\"PathCollection_30\">\r\n    <g clip-path=\"url(#pce4f60e454)\">\r\n     <use style=\"fill:#0000ff;fill-opacity:0.8;stroke:#0000ff;stroke-opacity:0.8;\" x=\"119.362956\" xlink:href=\"#mc9a3a9abef\" y=\"48.39129\"/>\r\n    </g>\r\n   </g>\r\n   <g id=\"PathCollection_31\">\r\n    <g clip-path=\"url(#pce4f60e454)\">\r\n     <use style=\"fill:#ff0000;fill-opacity:0.8;stroke:#ff0000;stroke-opacity:0.8;\" x=\"221.434144\" xlink:href=\"#mc74a86eab7\" y=\"133.122934\"/>\r\n    </g>\r\n   </g>\r\n   <g id=\"PathCollection_32\">\r\n    <g clip-path=\"url(#pce4f60e454)\">\r\n     <use style=\"fill:#ff0000;fill-opacity:0.8;stroke:#ff0000;stroke-opacity:0.8;\" x=\"169.776059\" xlink:href=\"#mc74a86eab7\" y=\"108.725686\"/>\r\n    </g>\r\n   </g>\r\n   <g id=\"PathCollection_33\">\r\n    <g clip-path=\"url(#pce4f60e454)\">\r\n     <use style=\"fill:#ff0000;fill-opacity:0.8;stroke:#ff0000;stroke-opacity:0.8;\" x=\"227.435708\" xlink:href=\"#mc74a86eab7\" y=\"153.396818\"/>\r\n    </g>\r\n   </g>\r\n   <g id=\"PathCollection_34\">\r\n    <g clip-path=\"url(#pce4f60e454)\">\r\n     <use style=\"fill:#0000ff;fill-opacity:0.8;stroke:#0000ff;stroke-opacity:0.8;\" x=\"315.544106\" xlink:href=\"#mc9a3a9abef\" y=\"123.460713\"/>\r\n    </g>\r\n   </g>\r\n   <g id=\"PathCollection_35\">\r\n    <g clip-path=\"url(#pce4f60e454)\">\r\n     <use style=\"fill:#ff0000;fill-opacity:0.8;stroke:#ff0000;stroke-opacity:0.8;\" x=\"197.808488\" xlink:href=\"#mc74a86eab7\" y=\"137.036052\"/>\r\n    </g>\r\n   </g>\r\n   <g id=\"PathCollection_36\">\r\n    <g clip-path=\"url(#pce4f60e454)\">\r\n     <use style=\"fill:#ff0000;fill-opacity:0.8;stroke:#ff0000;stroke-opacity:0.8;\" x=\"155.754525\" xlink:href=\"#mc74a86eab7\" y=\"122.84667\"/>\r\n    </g>\r\n   </g>\r\n   <g id=\"PathCollection_37\">\r\n    <g clip-path=\"url(#pce4f60e454)\">\r\n     <use style=\"fill:#ff0000;fill-opacity:0.8;stroke:#ff0000;stroke-opacity:0.8;\" x=\"190.686911\" xlink:href=\"#mc74a86eab7\" y=\"97.273692\"/>\r\n    </g>\r\n   </g>\r\n   <g id=\"PathCollection_38\">\r\n    <g clip-path=\"url(#pce4f60e454)\">\r\n     <use style=\"fill:#0000ff;fill-opacity:0.8;stroke:#0000ff;stroke-opacity:0.8;\" x=\"345.547945\" xlink:href=\"#mc9a3a9abef\" y=\"154.017534\"/>\r\n    </g>\r\n   </g>\r\n   <g id=\"PathCollection_39\">\r\n    <g clip-path=\"url(#pce4f60e454)\">\r\n     <use style=\"fill:#ff0000;fill-opacity:0.8;stroke:#ff0000;stroke-opacity:0.8;\" x=\"206.925312\" xlink:href=\"#mc74a86eab7\" y=\"122.186247\"/>\r\n    </g>\r\n   </g>\r\n   <g id=\"PathCollection_40\">\r\n    <g clip-path=\"url(#pce4f60e454)\">\r\n     <use style=\"fill:#ff0000;fill-opacity:0.8;stroke:#ff0000;stroke-opacity:0.8;\" x=\"244.865043\" xlink:href=\"#mc74a86eab7\" y=\"94.925317\"/>\r\n    </g>\r\n   </g>\r\n   <g id=\"PathCollection_41\">\r\n    <g clip-path=\"url(#pce4f60e454)\">\r\n     <use style=\"fill:#0000ff;fill-opacity:0.8;stroke:#0000ff;stroke-opacity:0.8;\" x=\"308.573494\" xlink:href=\"#mc9a3a9abef\" y=\"175.328632\"/>\r\n    </g>\r\n   </g>\r\n   <g id=\"PathCollection_42\">\r\n    <g clip-path=\"url(#pce4f60e454)\">\r\n     <use style=\"fill:#ff0000;fill-opacity:0.8;stroke:#ff0000;stroke-opacity:0.8;\" x=\"191.380246\" xlink:href=\"#mc74a86eab7\" y=\"107.762604\"/>\r\n    </g>\r\n   </g>\r\n   <g id=\"PathCollection_43\">\r\n    <g clip-path=\"url(#pce4f60e454)\">\r\n     <use style=\"fill:#0000ff;fill-opacity:0.8;stroke:#0000ff;stroke-opacity:0.8;\" x=\"271.097574\" xlink:href=\"#mc9a3a9abef\" y=\"215.661501\"/>\r\n    </g>\r\n   </g>\r\n   <g id=\"PathCollection_44\">\r\n    <g clip-path=\"url(#pce4f60e454)\">\r\n     <use style=\"fill:#ff0000;fill-opacity:0.8;stroke:#ff0000;stroke-opacity:0.8;\" x=\"130.909732\" xlink:href=\"#mc74a86eab7\" y=\"129.861318\"/>\r\n    </g>\r\n   </g>\r\n   <g id=\"PathCollection_45\">\r\n    <g clip-path=\"url(#pce4f60e454)\">\r\n     <use style=\"fill:#0000ff;fill-opacity:0.8;stroke:#0000ff;stroke-opacity:0.8;\" x=\"52.489167\" xlink:href=\"#mc9a3a9abef\" y=\"132.593183\"/>\r\n    </g>\r\n   </g>\r\n   <g id=\"PathCollection_46\">\r\n    <g clip-path=\"url(#pce4f60e454)\">\r\n     <use style=\"fill:#ff0000;fill-opacity:0.8;stroke:#ff0000;stroke-opacity:0.8;\" x=\"208.325933\" xlink:href=\"#mc74a86eab7\" y=\"73.452517\"/>\r\n    </g>\r\n   </g>\r\n   <g id=\"PathCollection_47\">\r\n    <g clip-path=\"url(#pce4f60e454)\">\r\n     <use style=\"fill:#0000ff;fill-opacity:0.8;stroke:#0000ff;stroke-opacity:0.8;\" x=\"62.549298\" xlink:href=\"#mc9a3a9abef\" y=\"68.354839\"/>\r\n    </g>\r\n   </g>\r\n   <g id=\"PathCollection_48\">\r\n    <g clip-path=\"url(#pce4f60e454)\">\r\n     <use style=\"fill:#0000ff;fill-opacity:0.8;stroke:#0000ff;stroke-opacity:0.8;\" x=\"286.281591\" xlink:href=\"#mc9a3a9abef\" y=\"190.491294\"/>\r\n    </g>\r\n   </g>\r\n   <g id=\"PathCollection_49\">\r\n    <g clip-path=\"url(#pce4f60e454)\">\r\n     <use style=\"fill:#0000ff;fill-opacity:0.8;stroke:#0000ff;stroke-opacity:0.8;\" x=\"278.179422\" xlink:href=\"#mc9a3a9abef\" y=\"35.868052\"/>\r\n    </g>\r\n   </g>\r\n   <g id=\"PathCollection_50\">\r\n    <g clip-path=\"url(#pce4f60e454)\">\r\n     <use style=\"fill:#ff0000;fill-opacity:0.8;stroke:#ff0000;stroke-opacity:0.8;\" x=\"211.855517\" xlink:href=\"#mc74a86eab7\" y=\"85.804022\"/>\r\n    </g>\r\n   </g>\r\n   <g id=\"PathCollection_51\">\r\n    <g clip-path=\"url(#pce4f60e454)\">\r\n     <use style=\"fill:#ff0000;fill-opacity:0.8;stroke:#ff0000;stroke-opacity:0.8;\" x=\"220.091267\" xlink:href=\"#mc74a86eab7\" y=\"94.574895\"/>\r\n    </g>\r\n   </g>\r\n   <g id=\"PathCollection_52\">\r\n    <g clip-path=\"url(#pce4f60e454)\">\r\n     <use style=\"fill:#ff0000;fill-opacity:0.8;stroke:#ff0000;stroke-opacity:0.8;\" x=\"197.71335\" xlink:href=\"#mc74a86eab7\" y=\"118.787457\"/>\r\n    </g>\r\n   </g>\r\n   <g id=\"PathCollection_53\">\r\n    <g clip-path=\"url(#pce4f60e454)\">\r\n     <use style=\"fill:#ff0000;fill-opacity:0.8;stroke:#ff0000;stroke-opacity:0.8;\" x=\"195.798647\" xlink:href=\"#mc74a86eab7\" y=\"119.357894\"/>\r\n    </g>\r\n   </g>\r\n   <g id=\"PathCollection_54\">\r\n    <g clip-path=\"url(#pce4f60e454)\">\r\n     <use style=\"fill:#ff0000;fill-opacity:0.8;stroke:#ff0000;stroke-opacity:0.8;\" x=\"196.674122\" xlink:href=\"#mc74a86eab7\" y=\"118.435046\"/>\r\n    </g>\r\n   </g>\r\n   <g id=\"PathCollection_55\">\r\n    <g clip-path=\"url(#pce4f60e454)\">\r\n     <use style=\"fill:#0000ff;fill-opacity:0.8;stroke:#0000ff;stroke-opacity:0.8;\" x=\"331.435446\" xlink:href=\"#mc9a3a9abef\" y=\"145.018296\"/>\r\n    </g>\r\n   </g>\r\n   <g id=\"PathCollection_56\">\r\n    <g clip-path=\"url(#pce4f60e454)\">\r\n     <use style=\"fill:#0000ff;fill-opacity:0.8;stroke:#0000ff;stroke-opacity:0.8;\" x=\"327.04085\" xlink:href=\"#mc9a3a9abef\" y=\"144.229813\"/>\r\n    </g>\r\n   </g>\r\n   <g id=\"PathCollection_57\">\r\n    <g clip-path=\"url(#pce4f60e454)\">\r\n     <use style=\"fill:#0000ff;fill-opacity:0.8;stroke:#0000ff;stroke-opacity:0.8;\" x=\"297.148015\" xlink:href=\"#mc9a3a9abef\" y=\"64.709365\"/>\r\n    </g>\r\n   </g>\r\n   <g id=\"PathCollection_58\">\r\n    <g clip-path=\"url(#pce4f60e454)\">\r\n     <use style=\"fill:#ff0000;fill-opacity:0.8;stroke:#ff0000;stroke-opacity:0.8;\" x=\"187.425922\" xlink:href=\"#mc74a86eab7\" y=\"104.775291\"/>\r\n    </g>\r\n   </g>\r\n   <g id=\"PathCollection_59\">\r\n    <g clip-path=\"url(#pce4f60e454)\">\r\n     <use style=\"fill:#ff0000;fill-opacity:0.8;stroke:#ff0000;stroke-opacity:0.8;\" x=\"185.622135\" xlink:href=\"#mc74a86eab7\" y=\"110.88103\"/>\r\n    </g>\r\n   </g>\r\n   <g id=\"PathCollection_60\">\r\n    <g clip-path=\"url(#pce4f60e454)\">\r\n     <use style=\"fill:#0000ff;fill-opacity:0.8;stroke:#0000ff;stroke-opacity:0.8;\" x=\"116.020092\" xlink:href=\"#mc9a3a9abef\" y=\"30.9325\"/>\r\n    </g>\r\n   </g>\r\n   <g id=\"PathCollection_61\">\r\n    <g clip-path=\"url(#pce4f60e454)\">\r\n     <use style=\"fill:#ff0000;fill-opacity:0.8;stroke:#ff0000;stroke-opacity:0.8;\" x=\"241.700448\" xlink:href=\"#mc74a86eab7\" y=\"106.650681\"/>\r\n    </g>\r\n   </g>\r\n   <g id=\"PathCollection_62\">\r\n    <g clip-path=\"url(#pce4f60e454)\">\r\n     <use style=\"fill:#0000ff;fill-opacity:0.8;stroke:#0000ff;stroke-opacity:0.8;\" x=\"67.90303\" xlink:href=\"#mc9a3a9abef\" y=\"112.343515\"/>\r\n    </g>\r\n   </g>\r\n   <g id=\"PathCollection_63\">\r\n    <g clip-path=\"url(#pce4f60e454)\">\r\n     <use style=\"fill:#0000ff;fill-opacity:0.8;stroke:#0000ff;stroke-opacity:0.8;\" x=\"53.905824\" xlink:href=\"#mc9a3a9abef\" y=\"102.385724\"/>\r\n    </g>\r\n   </g>\r\n   <g id=\"PathCollection_64\">\r\n    <g clip-path=\"url(#pce4f60e454)\">\r\n     <use style=\"fill:#0000ff;fill-opacity:0.8;stroke:#0000ff;stroke-opacity:0.8;\" x=\"45.321307\" xlink:href=\"#mc9a3a9abef\" y=\"159.013822\"/>\r\n    </g>\r\n   </g>\r\n   <g id=\"PathCollection_65\">\r\n    <g clip-path=\"url(#pce4f60e454)\">\r\n     <use style=\"fill:#ff0000;fill-opacity:0.8;stroke:#ff0000;stroke-opacity:0.8;\" x=\"215.413099\" xlink:href=\"#mc74a86eab7\" y=\"95.670718\"/>\r\n    </g>\r\n   </g>\r\n   <g id=\"PathCollection_66\">\r\n    <g clip-path=\"url(#pce4f60e454)\">\r\n     <use style=\"fill:#ff0000;fill-opacity:0.8;stroke:#ff0000;stroke-opacity:0.8;\" x=\"210.628605\" xlink:href=\"#mc74a86eab7\" y=\"166.107582\"/>\r\n    </g>\r\n   </g>\r\n   <g id=\"PathCollection_67\">\r\n    <g clip-path=\"url(#pce4f60e454)\">\r\n     <use style=\"fill:#ff0000;fill-opacity:0.8;stroke:#ff0000;stroke-opacity:0.8;\" x=\"150.717205\" xlink:href=\"#mc74a86eab7\" y=\"103.229123\"/>\r\n    </g>\r\n   </g>\r\n   <g id=\"PathCollection_68\">\r\n    <g clip-path=\"url(#pce4f60e454)\">\r\n     <use style=\"fill:#0000ff;fill-opacity:0.8;stroke:#0000ff;stroke-opacity:0.8;\" x=\"168.214101\" xlink:href=\"#mc9a3a9abef\" y=\"13.430967\"/>\r\n    </g>\r\n   </g>\r\n   <g id=\"PathCollection_69\">\r\n    <g clip-path=\"url(#pce4f60e454)\">\r\n     <use style=\"fill:#ff0000;fill-opacity:0.8;stroke:#ff0000;stroke-opacity:0.8;\" x=\"242.583601\" xlink:href=\"#mc74a86eab7\" y=\"124.356931\"/>\r\n    </g>\r\n   </g>\r\n   <g id=\"PathCollection_70\">\r\n    <g clip-path=\"url(#pce4f60e454)\">\r\n     <use style=\"fill:#ff0000;fill-opacity:0.8;stroke:#ff0000;stroke-opacity:0.8;\" x=\"262.979821\" xlink:href=\"#mc74a86eab7\" y=\"101.272409\"/>\r\n    </g>\r\n   </g>\r\n   <g id=\"PathCollection_71\">\r\n    <g clip-path=\"url(#pce4f60e454)\">\r\n     <use style=\"fill:#0000ff;fill-opacity:0.8;stroke:#0000ff;stroke-opacity:0.8;\" x=\"175.270354\" xlink:href=\"#mc9a3a9abef\" y=\"10.999219\"/>\r\n    </g>\r\n   </g>\r\n   <g id=\"PathCollection_72\">\r\n    <g clip-path=\"url(#pce4f60e454)\">\r\n     <use style=\"fill:#ff0000;fill-opacity:0.8;stroke:#ff0000;stroke-opacity:0.8;\" x=\"257.11475\" xlink:href=\"#mc74a86eab7\" y=\"127.066299\"/>\r\n    </g>\r\n   </g>\r\n   <g id=\"PathCollection_73\">\r\n    <g clip-path=\"url(#pce4f60e454)\">\r\n     <use style=\"fill:#ff0000;fill-opacity:0.8;stroke:#ff0000;stroke-opacity:0.8;\" x=\"203.298445\" xlink:href=\"#mc74a86eab7\" y=\"115.134635\"/>\r\n    </g>\r\n   </g>\r\n   <g id=\"PathCollection_74\">\r\n    <g clip-path=\"url(#pce4f60e454)\">\r\n     <use style=\"fill:#ff0000;fill-opacity:0.8;stroke:#ff0000;stroke-opacity:0.8;\" x=\"269.452492\" xlink:href=\"#mc74a86eab7\" y=\"92.15339\"/>\r\n    </g>\r\n   </g>\r\n   <g id=\"PathCollection_75\">\r\n    <g clip-path=\"url(#pce4f60e454)\">\r\n     <use style=\"fill:#0000ff;fill-opacity:0.8;stroke:#0000ff;stroke-opacity:0.8;\" x=\"125.291906\" xlink:href=\"#mc9a3a9abef\" y=\"191.532176\"/>\r\n    </g>\r\n   </g>\r\n   <g id=\"PathCollection_76\">\r\n    <g clip-path=\"url(#pce4f60e454)\">\r\n     <use style=\"fill:#0000ff;fill-opacity:0.8;stroke:#0000ff;stroke-opacity:0.8;\" x=\"93.552781\" xlink:href=\"#mc9a3a9abef\" y=\"178.655082\"/>\r\n    </g>\r\n   </g>\r\n   <g id=\"PathCollection_77\">\r\n    <g clip-path=\"url(#pce4f60e454)\">\r\n     <use style=\"fill:#0000ff;fill-opacity:0.8;stroke:#0000ff;stroke-opacity:0.8;\" x=\"91.034358\" xlink:href=\"#mc9a3a9abef\" y=\"207.781179\"/>\r\n    </g>\r\n   </g>\r\n   <g id=\"PathCollection_78\">\r\n    <g clip-path=\"url(#pce4f60e454)\">\r\n     <use style=\"fill:#ff0000;fill-opacity:0.8;stroke:#ff0000;stroke-opacity:0.8;\" x=\"159.194219\" xlink:href=\"#mc74a86eab7\" y=\"125.613718\"/>\r\n    </g>\r\n   </g>\r\n   <g id=\"PathCollection_79\">\r\n    <g clip-path=\"url(#pce4f60e454)\">\r\n     <use style=\"fill:#ff0000;fill-opacity:0.8;stroke:#ff0000;stroke-opacity:0.8;\" x=\"269.32216\" xlink:href=\"#mc74a86eab7\" y=\"124.473166\"/>\r\n    </g>\r\n   </g>\r\n   <g id=\"PathCollection_80\">\r\n    <g clip-path=\"url(#pce4f60e454)\">\r\n     <use style=\"fill:#0000ff;fill-opacity:0.8;stroke:#0000ff;stroke-opacity:0.8;\" x=\"87.090045\" xlink:href=\"#mc9a3a9abef\" y=\"61.773898\"/>\r\n    </g>\r\n   </g>\r\n   <g id=\"PathCollection_81\">\r\n    <g clip-path=\"url(#pce4f60e454)\">\r\n     <use style=\"fill:#ff0000;fill-opacity:0.8;stroke:#ff0000;stroke-opacity:0.8;\" x=\"217.465409\" xlink:href=\"#mc74a86eab7\" y=\"121.825103\"/>\r\n    </g>\r\n   </g>\r\n   <g id=\"PathCollection_82\">\r\n    <g clip-path=\"url(#pce4f60e454)\">\r\n     <use style=\"fill:#0000ff;fill-opacity:0.8;stroke:#0000ff;stroke-opacity:0.8;\" x=\"63.004258\" xlink:href=\"#mc9a3a9abef\" y=\"135.021457\"/>\r\n    </g>\r\n   </g>\r\n   <g id=\"PathCollection_83\">\r\n    <g clip-path=\"url(#pce4f60e454)\">\r\n     <use style=\"fill:#0000ff;fill-opacity:0.8;stroke:#0000ff;stroke-opacity:0.8;\" x=\"236.386856\" xlink:href=\"#mc9a3a9abef\" y=\"204.377283\"/>\r\n    </g>\r\n   </g>\r\n   <g id=\"PathCollection_84\">\r\n    <g clip-path=\"url(#pce4f60e454)\">\r\n     <use style=\"fill:#ff0000;fill-opacity:0.8;stroke:#ff0000;stroke-opacity:0.8;\" x=\"195.340771\" xlink:href=\"#mc74a86eab7\" y=\"121.094413\"/>\r\n    </g>\r\n   </g>\r\n   <g id=\"PathCollection_85\">\r\n    <g clip-path=\"url(#pce4f60e454)\">\r\n     <use style=\"fill:#ff0000;fill-opacity:0.8;stroke:#ff0000;stroke-opacity:0.8;\" x=\"164.367492\" xlink:href=\"#mc74a86eab7\" y=\"121.105152\"/>\r\n    </g>\r\n   </g>\r\n   <g id=\"PathCollection_86\">\r\n    <g clip-path=\"url(#pce4f60e454)\">\r\n     <use style=\"fill:#0000ff;fill-opacity:0.8;stroke:#0000ff;stroke-opacity:0.8;\" x=\"64.637859\" xlink:href=\"#mc9a3a9abef\" y=\"181.918724\"/>\r\n    </g>\r\n   </g>\r\n   <g id=\"PathCollection_87\">\r\n    <g clip-path=\"url(#pce4f60e454)\">\r\n     <use style=\"fill:#0000ff;fill-opacity:0.8;stroke:#0000ff;stroke-opacity:0.8;\" x=\"269.62232\" xlink:href=\"#mc9a3a9abef\" y=\"43.318844\"/>\r\n    </g>\r\n   </g>\r\n   <g id=\"PathCollection_88\">\r\n    <g clip-path=\"url(#pce4f60e454)\">\r\n     <use style=\"fill:#0000ff;fill-opacity:0.8;stroke:#0000ff;stroke-opacity:0.8;\" x=\"61.61802\" xlink:href=\"#mc9a3a9abef\" y=\"157.504433\"/>\r\n    </g>\r\n   </g>\r\n   <g id=\"PathCollection_89\">\r\n    <g clip-path=\"url(#pce4f60e454)\">\r\n     <use style=\"fill:#0000ff;fill-opacity:0.8;stroke:#0000ff;stroke-opacity:0.8;\" x=\"102.182756\" xlink:href=\"#mc9a3a9abef\" y=\"199.612973\"/>\r\n    </g>\r\n   </g>\r\n   <g id=\"PathCollection_90\">\r\n    <g clip-path=\"url(#pce4f60e454)\">\r\n     <use style=\"fill:#0000ff;fill-opacity:0.8;stroke:#0000ff;stroke-opacity:0.8;\" x=\"256.30706\" xlink:href=\"#mc9a3a9abef\" y=\"199.83242\"/>\r\n    </g>\r\n   </g>\r\n   <g id=\"PathCollection_91\">\r\n    <g clip-path=\"url(#pce4f60e454)\">\r\n     <use style=\"fill:#0000ff;fill-opacity:0.8;stroke:#0000ff;stroke-opacity:0.8;\" x=\"88.20518\" xlink:href=\"#mc9a3a9abef\" y=\"62.772533\"/>\r\n    </g>\r\n   </g>\r\n   <g id=\"PathCollection_92\">\r\n    <g clip-path=\"url(#pce4f60e454)\">\r\n     <use style=\"fill:#ff0000;fill-opacity:0.8;stroke:#ff0000;stroke-opacity:0.8;\" x=\"223.862975\" xlink:href=\"#mc74a86eab7\" y=\"102.321973\"/>\r\n    </g>\r\n   </g>\r\n   <g id=\"PathCollection_93\">\r\n    <g clip-path=\"url(#pce4f60e454)\">\r\n     <use style=\"fill:#0000ff;fill-opacity:0.8;stroke:#0000ff;stroke-opacity:0.8;\" x=\"288.085276\" xlink:href=\"#mc9a3a9abef\" y=\"67.850733\"/>\r\n    </g>\r\n   </g>\r\n   <g id=\"PathCollection_94\">\r\n    <g clip-path=\"url(#pce4f60e454)\">\r\n     <use style=\"fill:#ff0000;fill-opacity:0.8;stroke:#ff0000;stroke-opacity:0.8;\" x=\"246.070846\" xlink:href=\"#mc74a86eab7\" y=\"100.401265\"/>\r\n    </g>\r\n   </g>\r\n   <g id=\"PathCollection_95\">\r\n    <g clip-path=\"url(#pce4f60e454)\">\r\n     <use style=\"fill:#ff0000;fill-opacity:0.8;stroke:#ff0000;stroke-opacity:0.8;\" x=\"203.90424\" xlink:href=\"#mc74a86eab7\" y=\"167.316276\"/>\r\n    </g>\r\n   </g>\r\n   <g id=\"PathCollection_96\">\r\n    <g clip-path=\"url(#pce4f60e454)\">\r\n     <use style=\"fill:#0000ff;fill-opacity:0.8;stroke:#0000ff;stroke-opacity:0.8;\" x=\"312.800379\" xlink:href=\"#mc9a3a9abef\" y=\"150.681569\"/>\r\n    </g>\r\n   </g>\r\n   <g id=\"PathCollection_97\">\r\n    <g clip-path=\"url(#pce4f60e454)\">\r\n     <use style=\"fill:#ff0000;fill-opacity:0.8;stroke:#ff0000;stroke-opacity:0.8;\" x=\"250.847262\" xlink:href=\"#mc74a86eab7\" y=\"116.536869\"/>\r\n    </g>\r\n   </g>\r\n   <g id=\"PathCollection_98\">\r\n    <g clip-path=\"url(#pce4f60e454)\">\r\n     <use style=\"fill:#0000ff;fill-opacity:0.8;stroke:#0000ff;stroke-opacity:0.8;\" x=\"347.183379\" xlink:href=\"#mc9a3a9abef\" y=\"142.195673\"/>\r\n    </g>\r\n   </g>\r\n   <g id=\"PathCollection_99\">\r\n    <g clip-path=\"url(#pce4f60e454)\">\r\n     <use style=\"fill:#ff0000;fill-opacity:0.8;stroke:#ff0000;stroke-opacity:0.8;\" x=\"271.714383\" xlink:href=\"#mc74a86eab7\" y=\"101.528425\"/>\r\n    </g>\r\n   </g>\r\n   <g id=\"PathCollection_100\">\r\n    <g clip-path=\"url(#pce4f60e454)\">\r\n     <use style=\"fill:#0000ff;fill-opacity:0.8;stroke:#0000ff;stroke-opacity:0.8;\" x=\"76.563902\" xlink:href=\"#mc9a3a9abef\" y=\"66.220089\"/>\r\n    </g>\r\n   </g>\r\n   <g id=\"matplotlib.axis_1\">\r\n    <g id=\"xtick_1\">\r\n     <g id=\"line2d_1\">\r\n      <defs>\r\n       <path d=\"M 0 0 \r\nL 0 3.5 \r\n\" id=\"mce2d0590d1\" style=\"stroke:#000000;stroke-width:0.8;\"/>\r\n      </defs>\r\n      <g>\r\n       <use style=\"stroke:#000000;stroke-width:0.8;\" x=\"45.321307\" xlink:href=\"#mce2d0590d1\" y=\"228.439219\"/>\r\n      </g>\r\n     </g>\r\n     <g id=\"text_1\">\r\n      <!-- 0.0 -->\r\n      <defs>\r\n       <path d=\"M 31.78125 66.40625 \r\nQ 24.171875 66.40625 20.328125 58.90625 \r\nQ 16.5 51.421875 16.5 36.375 \r\nQ 16.5 21.390625 20.328125 13.890625 \r\nQ 24.171875 6.390625 31.78125 6.390625 \r\nQ 39.453125 6.390625 43.28125 13.890625 \r\nQ 47.125 21.390625 47.125 36.375 \r\nQ 47.125 51.421875 43.28125 58.90625 \r\nQ 39.453125 66.40625 31.78125 66.40625 \r\nz\r\nM 31.78125 74.21875 \r\nQ 44.046875 74.21875 50.515625 64.515625 \r\nQ 56.984375 54.828125 56.984375 36.375 \r\nQ 56.984375 17.96875 50.515625 8.265625 \r\nQ 44.046875 -1.421875 31.78125 -1.421875 \r\nQ 19.53125 -1.421875 13.0625 8.265625 \r\nQ 6.59375 17.96875 6.59375 36.375 \r\nQ 6.59375 54.828125 13.0625 64.515625 \r\nQ 19.53125 74.21875 31.78125 74.21875 \r\nz\r\n\" id=\"DejaVuSans-48\"/>\r\n       <path d=\"M 10.6875 12.40625 \r\nL 21 12.40625 \r\nL 21 0 \r\nL 10.6875 0 \r\nz\r\n\" id=\"DejaVuSans-46\"/>\r\n      </defs>\r\n      <g transform=\"translate(37.369744 243.037656)scale(0.1 -0.1)\">\r\n       <use xlink:href=\"#DejaVuSans-48\"/>\r\n       <use x=\"63.623047\" xlink:href=\"#DejaVuSans-46\"/>\r\n       <use x=\"95.410156\" xlink:href=\"#DejaVuSans-48\"/>\r\n      </g>\r\n     </g>\r\n    </g>\r\n    <g id=\"xtick_2\">\r\n     <g id=\"line2d_2\">\r\n      <g>\r\n       <use style=\"stroke:#000000;stroke-width:0.8;\" x=\"106.194034\" xlink:href=\"#mce2d0590d1\" y=\"228.439219\"/>\r\n      </g>\r\n     </g>\r\n     <g id=\"text_2\">\r\n      <!-- 0.2 -->\r\n      <defs>\r\n       <path d=\"M 19.1875 8.296875 \r\nL 53.609375 8.296875 \r\nL 53.609375 0 \r\nL 7.328125 0 \r\nL 7.328125 8.296875 \r\nQ 12.9375 14.109375 22.625 23.890625 \r\nQ 32.328125 33.6875 34.8125 36.53125 \r\nQ 39.546875 41.84375 41.421875 45.53125 \r\nQ 43.3125 49.21875 43.3125 52.78125 \r\nQ 43.3125 58.59375 39.234375 62.25 \r\nQ 35.15625 65.921875 28.609375 65.921875 \r\nQ 23.96875 65.921875 18.8125 64.3125 \r\nQ 13.671875 62.703125 7.8125 59.421875 \r\nL 7.8125 69.390625 \r\nQ 13.765625 71.78125 18.9375 73 \r\nQ 24.125 74.21875 28.421875 74.21875 \r\nQ 39.75 74.21875 46.484375 68.546875 \r\nQ 53.21875 62.890625 53.21875 53.421875 \r\nQ 53.21875 48.921875 51.53125 44.890625 \r\nQ 49.859375 40.875 45.40625 35.40625 \r\nQ 44.1875 33.984375 37.640625 27.21875 \r\nQ 31.109375 20.453125 19.1875 8.296875 \r\nz\r\n\" id=\"DejaVuSans-50\"/>\r\n      </defs>\r\n      <g transform=\"translate(98.242472 243.037656)scale(0.1 -0.1)\">\r\n       <use xlink:href=\"#DejaVuSans-48\"/>\r\n       <use x=\"63.623047\" xlink:href=\"#DejaVuSans-46\"/>\r\n       <use x=\"95.410156\" xlink:href=\"#DejaVuSans-50\"/>\r\n      </g>\r\n     </g>\r\n    </g>\r\n    <g id=\"xtick_3\">\r\n     <g id=\"line2d_3\">\r\n      <g>\r\n       <use style=\"stroke:#000000;stroke-width:0.8;\" x=\"167.066761\" xlink:href=\"#mce2d0590d1\" y=\"228.439219\"/>\r\n      </g>\r\n     </g>\r\n     <g id=\"text_3\">\r\n      <!-- 0.4 -->\r\n      <defs>\r\n       <path d=\"M 37.796875 64.3125 \r\nL 12.890625 25.390625 \r\nL 37.796875 25.390625 \r\nz\r\nM 35.203125 72.90625 \r\nL 47.609375 72.90625 \r\nL 47.609375 25.390625 \r\nL 58.015625 25.390625 \r\nL 58.015625 17.1875 \r\nL 47.609375 17.1875 \r\nL 47.609375 0 \r\nL 37.796875 0 \r\nL 37.796875 17.1875 \r\nL 4.890625 17.1875 \r\nL 4.890625 26.703125 \r\nz\r\n\" id=\"DejaVuSans-52\"/>\r\n      </defs>\r\n      <g transform=\"translate(159.115199 243.037656)scale(0.1 -0.1)\">\r\n       <use xlink:href=\"#DejaVuSans-48\"/>\r\n       <use x=\"63.623047\" xlink:href=\"#DejaVuSans-46\"/>\r\n       <use x=\"95.410156\" xlink:href=\"#DejaVuSans-52\"/>\r\n      </g>\r\n     </g>\r\n    </g>\r\n    <g id=\"xtick_4\">\r\n     <g id=\"line2d_4\">\r\n      <g>\r\n       <use style=\"stroke:#000000;stroke-width:0.8;\" x=\"227.939489\" xlink:href=\"#mce2d0590d1\" y=\"228.439219\"/>\r\n      </g>\r\n     </g>\r\n     <g id=\"text_4\">\r\n      <!-- 0.6 -->\r\n      <defs>\r\n       <path d=\"M 33.015625 40.375 \r\nQ 26.375 40.375 22.484375 35.828125 \r\nQ 18.609375 31.296875 18.609375 23.390625 \r\nQ 18.609375 15.53125 22.484375 10.953125 \r\nQ 26.375 6.390625 33.015625 6.390625 \r\nQ 39.65625 6.390625 43.53125 10.953125 \r\nQ 47.40625 15.53125 47.40625 23.390625 \r\nQ 47.40625 31.296875 43.53125 35.828125 \r\nQ 39.65625 40.375 33.015625 40.375 \r\nz\r\nM 52.59375 71.296875 \r\nL 52.59375 62.3125 \r\nQ 48.875 64.0625 45.09375 64.984375 \r\nQ 41.3125 65.921875 37.59375 65.921875 \r\nQ 27.828125 65.921875 22.671875 59.328125 \r\nQ 17.53125 52.734375 16.796875 39.40625 \r\nQ 19.671875 43.65625 24.015625 45.921875 \r\nQ 28.375 48.1875 33.59375 48.1875 \r\nQ 44.578125 48.1875 50.953125 41.515625 \r\nQ 57.328125 34.859375 57.328125 23.390625 \r\nQ 57.328125 12.15625 50.6875 5.359375 \r\nQ 44.046875 -1.421875 33.015625 -1.421875 \r\nQ 20.359375 -1.421875 13.671875 8.265625 \r\nQ 6.984375 17.96875 6.984375 36.375 \r\nQ 6.984375 53.65625 15.1875 63.9375 \r\nQ 23.390625 74.21875 37.203125 74.21875 \r\nQ 40.921875 74.21875 44.703125 73.484375 \r\nQ 48.484375 72.75 52.59375 71.296875 \r\nz\r\n\" id=\"DejaVuSans-54\"/>\r\n      </defs>\r\n      <g transform=\"translate(219.987926 243.037656)scale(0.1 -0.1)\">\r\n       <use xlink:href=\"#DejaVuSans-48\"/>\r\n       <use x=\"63.623047\" xlink:href=\"#DejaVuSans-46\"/>\r\n       <use x=\"95.410156\" xlink:href=\"#DejaVuSans-54\"/>\r\n      </g>\r\n     </g>\r\n    </g>\r\n    <g id=\"xtick_5\">\r\n     <g id=\"line2d_5\">\r\n      <g>\r\n       <use style=\"stroke:#000000;stroke-width:0.8;\" x=\"288.812216\" xlink:href=\"#mce2d0590d1\" y=\"228.439219\"/>\r\n      </g>\r\n     </g>\r\n     <g id=\"text_5\">\r\n      <!-- 0.8 -->\r\n      <defs>\r\n       <path d=\"M 31.78125 34.625 \r\nQ 24.75 34.625 20.71875 30.859375 \r\nQ 16.703125 27.09375 16.703125 20.515625 \r\nQ 16.703125 13.921875 20.71875 10.15625 \r\nQ 24.75 6.390625 31.78125 6.390625 \r\nQ 38.8125 6.390625 42.859375 10.171875 \r\nQ 46.921875 13.96875 46.921875 20.515625 \r\nQ 46.921875 27.09375 42.890625 30.859375 \r\nQ 38.875 34.625 31.78125 34.625 \r\nz\r\nM 21.921875 38.8125 \r\nQ 15.578125 40.375 12.03125 44.71875 \r\nQ 8.5 49.078125 8.5 55.328125 \r\nQ 8.5 64.0625 14.71875 69.140625 \r\nQ 20.953125 74.21875 31.78125 74.21875 \r\nQ 42.671875 74.21875 48.875 69.140625 \r\nQ 55.078125 64.0625 55.078125 55.328125 \r\nQ 55.078125 49.078125 51.53125 44.71875 \r\nQ 48 40.375 41.703125 38.8125 \r\nQ 48.828125 37.15625 52.796875 32.3125 \r\nQ 56.78125 27.484375 56.78125 20.515625 \r\nQ 56.78125 9.90625 50.3125 4.234375 \r\nQ 43.84375 -1.421875 31.78125 -1.421875 \r\nQ 19.734375 -1.421875 13.25 4.234375 \r\nQ 6.78125 9.90625 6.78125 20.515625 \r\nQ 6.78125 27.484375 10.78125 32.3125 \r\nQ 14.796875 37.15625 21.921875 38.8125 \r\nz\r\nM 18.3125 54.390625 \r\nQ 18.3125 48.734375 21.84375 45.5625 \r\nQ 25.390625 42.390625 31.78125 42.390625 \r\nQ 38.140625 42.390625 41.71875 45.5625 \r\nQ 45.3125 48.734375 45.3125 54.390625 \r\nQ 45.3125 60.0625 41.71875 63.234375 \r\nQ 38.140625 66.40625 31.78125 66.40625 \r\nQ 25.390625 66.40625 21.84375 63.234375 \r\nQ 18.3125 60.0625 18.3125 54.390625 \r\nz\r\n\" id=\"DejaVuSans-56\"/>\r\n      </defs>\r\n      <g transform=\"translate(280.860653 243.037656)scale(0.1 -0.1)\">\r\n       <use xlink:href=\"#DejaVuSans-48\"/>\r\n       <use x=\"63.623047\" xlink:href=\"#DejaVuSans-46\"/>\r\n       <use x=\"95.410156\" xlink:href=\"#DejaVuSans-56\"/>\r\n      </g>\r\n     </g>\r\n    </g>\r\n    <g id=\"xtick_6\">\r\n     <g id=\"line2d_6\">\r\n      <g>\r\n       <use style=\"stroke:#000000;stroke-width:0.8;\" x=\"349.684943\" xlink:href=\"#mce2d0590d1\" y=\"228.439219\"/>\r\n      </g>\r\n     </g>\r\n     <g id=\"text_6\">\r\n      <!-- 1.0 -->\r\n      <defs>\r\n       <path d=\"M 12.40625 8.296875 \r\nL 28.515625 8.296875 \r\nL 28.515625 63.921875 \r\nL 10.984375 60.40625 \r\nL 10.984375 69.390625 \r\nL 28.421875 72.90625 \r\nL 38.28125 72.90625 \r\nL 38.28125 8.296875 \r\nL 54.390625 8.296875 \r\nL 54.390625 0 \r\nL 12.40625 0 \r\nz\r\n\" id=\"DejaVuSans-49\"/>\r\n      </defs>\r\n      <g transform=\"translate(341.733381 243.037656)scale(0.1 -0.1)\">\r\n       <use xlink:href=\"#DejaVuSans-49\"/>\r\n       <use x=\"63.623047\" xlink:href=\"#DejaVuSans-46\"/>\r\n       <use x=\"95.410156\" xlink:href=\"#DejaVuSans-48\"/>\r\n      </g>\r\n     </g>\r\n    </g>\r\n   </g>\r\n   <g id=\"matplotlib.axis_2\">\r\n    <g id=\"ytick_1\">\r\n     <g id=\"line2d_7\">\r\n      <defs>\r\n       <path d=\"M 0 0 \r\nL -3.5 0 \r\n\" id=\"m4fd62d0733\" style=\"stroke:#000000;stroke-width:0.8;\"/>\r\n      </defs>\r\n      <g>\r\n       <use style=\"stroke:#000000;stroke-width:0.8;\" x=\"30.103125\" xlink:href=\"#m4fd62d0733\" y=\"228.439219\"/>\r\n      </g>\r\n     </g>\r\n     <g id=\"text_7\">\r\n      <!-- 0.0 -->\r\n      <g transform=\"translate(7.2 232.238437)scale(0.1 -0.1)\">\r\n       <use xlink:href=\"#DejaVuSans-48\"/>\r\n       <use x=\"63.623047\" xlink:href=\"#DejaVuSans-46\"/>\r\n       <use x=\"95.410156\" xlink:href=\"#DejaVuSans-48\"/>\r\n      </g>\r\n     </g>\r\n    </g>\r\n    <g id=\"ytick_2\">\r\n     <g id=\"line2d_8\">\r\n      <g>\r\n       <use style=\"stroke:#000000;stroke-width:0.8;\" x=\"30.103125\" xlink:href=\"#m4fd62d0733\" y=\"184.951219\"/>\r\n      </g>\r\n     </g>\r\n     <g id=\"text_8\">\r\n      <!-- 0.2 -->\r\n      <g transform=\"translate(7.2 188.750437)scale(0.1 -0.1)\">\r\n       <use xlink:href=\"#DejaVuSans-48\"/>\r\n       <use x=\"63.623047\" xlink:href=\"#DejaVuSans-46\"/>\r\n       <use x=\"95.410156\" xlink:href=\"#DejaVuSans-50\"/>\r\n      </g>\r\n     </g>\r\n    </g>\r\n    <g id=\"ytick_3\">\r\n     <g id=\"line2d_9\">\r\n      <g>\r\n       <use style=\"stroke:#000000;stroke-width:0.8;\" x=\"30.103125\" xlink:href=\"#m4fd62d0733\" y=\"141.463219\"/>\r\n      </g>\r\n     </g>\r\n     <g id=\"text_9\">\r\n      <!-- 0.4 -->\r\n      <g transform=\"translate(7.2 145.262437)scale(0.1 -0.1)\">\r\n       <use xlink:href=\"#DejaVuSans-48\"/>\r\n       <use x=\"63.623047\" xlink:href=\"#DejaVuSans-46\"/>\r\n       <use x=\"95.410156\" xlink:href=\"#DejaVuSans-52\"/>\r\n      </g>\r\n     </g>\r\n    </g>\r\n    <g id=\"ytick_4\">\r\n     <g id=\"line2d_10\">\r\n      <g>\r\n       <use style=\"stroke:#000000;stroke-width:0.8;\" x=\"30.103125\" xlink:href=\"#m4fd62d0733\" y=\"97.975219\"/>\r\n      </g>\r\n     </g>\r\n     <g id=\"text_10\">\r\n      <!-- 0.6 -->\r\n      <g transform=\"translate(7.2 101.774437)scale(0.1 -0.1)\">\r\n       <use xlink:href=\"#DejaVuSans-48\"/>\r\n       <use x=\"63.623047\" xlink:href=\"#DejaVuSans-46\"/>\r\n       <use x=\"95.410156\" xlink:href=\"#DejaVuSans-54\"/>\r\n      </g>\r\n     </g>\r\n    </g>\r\n    <g id=\"ytick_5\">\r\n     <g id=\"line2d_11\">\r\n      <g>\r\n       <use style=\"stroke:#000000;stroke-width:0.8;\" x=\"30.103125\" xlink:href=\"#m4fd62d0733\" y=\"54.487219\"/>\r\n      </g>\r\n     </g>\r\n     <g id=\"text_11\">\r\n      <!-- 0.8 -->\r\n      <g transform=\"translate(7.2 58.286437)scale(0.1 -0.1)\">\r\n       <use xlink:href=\"#DejaVuSans-48\"/>\r\n       <use x=\"63.623047\" xlink:href=\"#DejaVuSans-46\"/>\r\n       <use x=\"95.410156\" xlink:href=\"#DejaVuSans-56\"/>\r\n      </g>\r\n     </g>\r\n    </g>\r\n    <g id=\"ytick_6\">\r\n     <g id=\"line2d_12\">\r\n      <g>\r\n       <use style=\"stroke:#000000;stroke-width:0.8;\" x=\"30.103125\" xlink:href=\"#m4fd62d0733\" y=\"10.999219\"/>\r\n      </g>\r\n     </g>\r\n     <g id=\"text_12\">\r\n      <!-- 1.0 -->\r\n      <g transform=\"translate(7.2 14.798437)scale(0.1 -0.1)\">\r\n       <use xlink:href=\"#DejaVuSans-49\"/>\r\n       <use x=\"63.623047\" xlink:href=\"#DejaVuSans-46\"/>\r\n       <use x=\"95.410156\" xlink:href=\"#DejaVuSans-48\"/>\r\n      </g>\r\n     </g>\r\n    </g>\r\n   </g>\r\n   <g id=\"patch_3\">\r\n    <path d=\"M 30.103125 228.439219 \r\nL 30.103125 10.999219 \r\n\" style=\"fill:none;stroke:#000000;stroke-linecap:square;stroke-linejoin:miter;stroke-width:0.8;\"/>\r\n   </g>\r\n   <g id=\"patch_4\">\r\n    <path d=\"M 364.903125 228.439219 \r\nL 364.903125 10.999219 \r\n\" style=\"fill:none;stroke:#000000;stroke-linecap:square;stroke-linejoin:miter;stroke-width:0.8;\"/>\r\n   </g>\r\n   <g id=\"patch_5\">\r\n    <path d=\"M 30.103125 228.439219 \r\nL 364.903125 228.439219 \r\n\" style=\"fill:none;stroke:#000000;stroke-linecap:square;stroke-linejoin:miter;stroke-width:0.8;\"/>\r\n   </g>\r\n   <g id=\"patch_6\">\r\n    <path d=\"M 30.103125 10.999219 \r\nL 364.903125 10.999219 \r\n\" style=\"fill:none;stroke:#000000;stroke-linecap:square;stroke-linejoin:miter;stroke-width:0.8;\"/>\r\n   </g>\r\n  </g>\r\n </g>\r\n <defs>\r\n  <clipPath id=\"pce4f60e454\">\r\n   <rect height=\"217.44\" width=\"334.8\" x=\"30.103125\" y=\"10.999219\"/>\r\n  </clipPath>\r\n </defs>\r\n</svg>\r\n",
      "image/png": "[encoded data removed]"
     },
     "metadata": {
      "needs_background": "light"
     }
    }
   ],
   "source": [
    "for x, y in zip(train_x, train_y):\n",
    "    if y == 0:\n",
    "        plt.scatter(x[0], x[1], c='r', alpha=0.8)\n",
    "    else:\n",
    "        plt.scatter(x[0], x[1], c='b', alpha=0.8)\n",
    "plt.ylim([0, 1])\n",
    "plt.show()"
   ]
  },
  {
   "cell_type": "code",
   "execution_count": 20,
   "metadata": {},
   "outputs": [],
   "source": [
    "a = FuzzyMMC(sensitivity=1, exp_bound=0.7, animate=True)"
   ]
  },
  {
   "cell_type": "code",
   "execution_count": 21,
   "metadata": {},
   "outputs": [],
   "source": [
    "a.fit(train_x, train_y)"
   ]
  },
  {
   "cell_type": "code",
   "execution_count": 22,
   "metadata": {},
   "outputs": [
    {
     "output_type": "execute_result",
     "data": {
      "text/plain": [
       "0.62"
      ]
     },
     "metadata": {},
     "execution_count": 22
    }
   ],
   "source": [
    "a.score(train_x, train_y)"
   ]
  },
  {
   "cell_type": "code",
   "execution_count": null,
   "metadata": {},
   "outputs": [],
   "source": []
  }
 ],
 "metadata": {
  "kernelspec": {
   "name": "python3",
   "display_name": "Python 3.7.7 64-bit",
   "metadata": {
    "interpreter": {
     "hash": "53229e1f775841d05ac6a06ef8fe65c71dc33f35286cc6a61f54b530673dd855"
    }
   }
  },
  "language_info": {
   "codemirror_mode": {
    "name": "ipython",
    "version": 3
   },
   "file_extension": ".py",
   "mimetype": "text/x-python",
   "name": "python",
   "nbconvert_exporter": "python",
   "pygments_lexer": "ipython3",
   "version": "3.7.7-final"
  }
 },
 "nbformat": 4,
 "nbformat_minor": 2
}